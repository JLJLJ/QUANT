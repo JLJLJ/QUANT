{
 "cells": [
  {
   "cell_type": "code",
   "execution_count": 1,
   "metadata": {},
   "outputs": [
    {
     "name": "stdout",
     "output_type": "stream",
     "text": [
      "you are using non-interactive mdoel quantaxis\n"
     ]
    }
   ],
   "source": [
    "import QUANTAXIS as QA\n",
    "import pandas as pd\n",
    "import numpy as np\n",
    "from pprint import  pprint as print\n",
    "import sklearn as sk\n",
    "from sklearn import preprocessing\n",
    "import lightgbm as lgb\n",
    "from sklearn.model_selection import train_test_split\n",
    "np.set_printoptions(suppress=True)"
   ]
  },
  {
   "cell_type": "code",
   "execution_count": 34,
   "metadata": {},
   "outputs": [],
   "source": [
    "x=np.random.normal(10,10,size=[1000,3])\n",
    "x1=x[:,0]\n",
    "x2=x[:,1]\n",
    "x3=x[:,2]\n",
    "\n",
    "x12=x1+x2\n",
    "x12=x12.reshape([-1,1])\n",
    "x=np.concatenate([x,x12],axis=1)\n",
    "y=x1+x2-x3"
   ]
  },
  {
   "cell_type": "code",
   "execution_count": null,
   "metadata": {},
   "outputs": [],
   "source": [
    "\n",
    "X_train,X_test,Y_train,Y_test=train_test_split(x,y,test_size=0.3,random_state=7)\n",
    "params = {\n",
    "    'boosting_type': 'gbdt',\n",
    "    'objective': 'regression',\n",
    "    'metric': {'l2', 'l1',''},\n",
    "    'num_leaves': 31,\n",
    "    'learning_rate': 0.01,\n",
    "    'feature_fraction': 0.9,\n",
    "    'bagging_fraction': 0.8,\n",
    "    'bagging_freq': 5,\n",
    "    'verbose': 1,\n",
    "    'num_threads':40\n",
    "}\n",
    "\n",
    "lgb_train = lgb.Dataset(X_train,Y_train)\n",
    "lgb_eval = [lgb.Dataset(X_test,Y_test,reference=lgb_train),lgb_train]\n",
    "model=lgb.train(params,lgb_train,num_boost_round=3000,valid_sets=lgb_eval,early_stopping_rounds=40)"
   ]
  },
  {
   "cell_type": "code",
   "execution_count": null,
   "metadata": {},
   "outputs": [],
   "source": [
    "model.predict(X_test)"
   ]
  },
  {
   "cell_type": "code",
   "execution_count": 50,
   "metadata": {},
   "outputs": [
    {
     "name": "stdout",
     "output_type": "stream",
     "text": [
      "{'error_code': 216100,\n",
      " 'error_msg': 'param id_card_side invalid',\n",
      " 'log_id': 3232070834081581310}\n"
     ]
    }
   ],
   "source": [
    "import requests\n",
    "import base64\n",
    "\n",
    "'''\n",
    "身份证识别\n",
    "'''\n",
    "# client_id 为官网获取的AK， client_secret 为官网获取的SK\n",
    "host = 'https://aip.baidubce.com/oauth/2.0/token?grant_type=client_credentials&client_id=k1ZGTvpjE4aX5wFLn8jtCGUh&client_secret=9CtW1XIieWypN250i11CSPnp3Hnegkka'\n",
    "response = requests.get(host)\n",
    "if response:\n",
    "    j=response.json()\n",
    "\n",
    "request_url = \"https://aip.baidubce.com/rest/2.0/ocr/v1/idcard\"\n",
    "# 二进制方式打开图片文件\n",
    "f = open('aa.png', 'rb')\n",
    "img = base64.b64encode(f.read())\n",
    "\n",
    "params = {\"id_card_side\":\"front\",\"image\":img}\n",
    "params = {\"id_card_side\":\"behind\",\"image\":img}\n",
    "access_token = j['access_token']\n",
    "request_url = request_url + \"?access_token=\" + access_token\n",
    "headers = {'content-type': 'application/x-www-form-urlencoded'}\n",
    "response = requests.post(request_url, data=params, headers=headers)\n",
    "if response:\n",
    "    j=response.json()\n",
    "    print (j)\n",
    "#print(j['words_result']['住址']['words'])"
   ]
  }
 ],
 "metadata": {
  "kernelspec": {
   "display_name": "Python 3",
   "language": "python",
   "name": "python3"
  },
  "language_info": {
   "codemirror_mode": {
    "name": "ipython",
    "version": 3
   },
   "file_extension": ".py",
   "mimetype": "text/x-python",
   "name": "python",
   "nbconvert_exporter": "python",
   "pygments_lexer": "ipython3",
   "version": "3.7.4"
  }
 },
 "nbformat": 4,
 "nbformat_minor": 4
}
