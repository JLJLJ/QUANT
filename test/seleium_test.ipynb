{
 "cells": [
  {
   "cell_type": "code",
   "execution_count": 8,
   "metadata": {},
   "outputs": [],
   "source": [
    "import time\n",
    "\n",
    "from selenium import webdriver\n",
    "from selenium.webdriver.common.desired_capabilities import DesiredCapabilities\n",
    "from io import StringIO,BytesIO\n",
    "from PIL import Image\n",
    "from tensorflow.keras.models import load_model\n",
    "from sklearn.cluster import KMeans\n",
    "from sklearn import preprocessing\n",
    "import sklearn.cluster  as skc\n",
    "import pandas as pd\n",
    "import numpy as np\n",
    "import matplotlib.pyplot as plt # plt 用于显示图片\n",
    "from sklearn.decomposition import PCA, IncrementalPCA\n",
    "\n",
    "#启动指定端口jar包 java -jar selenium-server-standalone-3.141.59.jar -port 55151\n"
   ]
  },
  {
   "cell_type": "code",
   "execution_count": 15,
   "metadata": {},
   "outputs": [],
   "source": [
    "url='https://cmcoins.boc.cn/CoinSeller/ImageValidation/validation1512712177016.gif'\n",
    "driver = webdriver.Remote(command_executor='http://39.98.140.65:55151/wd/hub',desired_capabilities=DesiredCapabilities.FIREFOX)\n",
    "driver.get(url)\n",
    "\n",
    "\n",
    "\n"
   ]
  },
  {
   "cell_type": "code",
   "execution_count": 25,
   "metadata": {},
   "outputs": [],
   "source": [
    "driver.page_source\n",
    "ele=driver.find_elements_by_tag_name('img')[0]\n"
   ]
  },
  {
   "cell_type": "code",
   "execution_count": 28,
   "metadata": {
    "scrolled": true
   },
   "outputs": [
    {
     "data": {
      "image/png": "[encoded data removed]",
      "text/plain": [
       "<PIL.PngImagePlugin.PngImageFile image mode=RGBA size=120x28 at 0x7F40E6896F50>"
      ]
     },
     "execution_count": 28,
     "metadata": {},
     "output_type": "execute_result"
    }
   ],
   "source": [
    "img=ele.screenshot_as_png\n",
    "img=Image.open(BytesIO(img))\n",
    "img"
   ]
  },
  {
   "cell_type": "code",
   "execution_count": 12,
   "metadata": {},
   "outputs": [
    {
     "name": "stdout",
     "output_type": "stream",
     "text": [
      "<html><head><meta name=\"viewport\" content=\"width=device-width; height=device-height;\"><link rel=\"stylesheet\" href=\"resource://content-accessible/ImageDocument.css\"><link rel=\"stylesheet\" href=\"resource://content-accessible/TopLevelImageDocument.css\"><link rel=\"stylesheet\" href=\"chrome://global/skin/media/TopLevelImageDocument.css\"><title>validation1512712177016.gif (GIF Image, 120&nbsp;×&nbsp;28 pixels)</title></head><body><img src=\"https://cmcoins.boc.cn/CoinSeller/ImageValidation/validation1512712177016.gif\" alt=\"https://cmcoins.boc.cn/CoinSeller/ImageValidation/validation1512712177016.gif\"></body></html>\n"
     ]
    }
   ],
   "source": [
    "from selenium import webdriver\n",
    "driver = webdriver.Remote(command_executor='http://39.98.140.65:55151/wd/hub',desired_capabilities=DesiredCapabilities.FIREFOX)\n",
    "driver.get(url)\n",
    "url = 'https:www.baidu.com'\n",
    "print(driver.page_source)#打印网页源代码\n",
    "driver.close()#关闭浏览器"
   ]
  },
  {
   "cell_type": "code",
   "execution_count": null,
   "metadata": {},
   "outputs": [],
   "source": []
  },
  {
   "cell_type": "code",
   "execution_count": null,
   "metadata": {},
   "outputs": [],
   "source": []
  },
  {
   "cell_type": "code",
   "execution_count": 371,
   "metadata": {
    "collapsed": true,
    "jupyter": {
     "outputs_hidden": true
    }
   },
   "outputs": [
    {
     "data": {
      "image/png": "[encoded data removed]",
      "text/plain": [
       "<Figure size 432x288 with 1 Axes>"
      ]
     },
     "metadata": {
      "needs_background": "light"
     },
     "output_type": "display_data"
    },
    {
     "name": "stdout",
     "output_type": "stream",
     "text": [
      "[[ 1.07734343 -1.70473948 -0.25784796  1.8235058  -0.32502748]\n",
      " [ 1.37096809 -1.70473948 -0.25784796  1.8235058  -0.32502748]\n",
      " [-0.68440454 -1.60234469 -1.02766597  0.97160843 -1.32620159]\n",
      " ...\n",
      " [ 1.07734343  1.81081514 -0.58916204 -0.27784104 -0.75591254]\n",
      " [ 1.07734343  1.84494673 -0.96919878 -1.01615209 -1.25016305]\n",
      " [ 1.07734343  1.87907833 -1.02766597 -1.1297384  -1.32620159]]\n",
      "字母分离失败\n",
      "1\n"
     ]
    },
    {
     "data": {
      "image/png": "[encoded data removed]",
      "text/plain": [
       "<Figure size 432x288 with 1 Axes>"
      ]
     },
     "metadata": {
      "needs_background": "light"
     },
     "output_type": "display_data"
    },
    {
     "name": "stdout",
     "output_type": "stream",
     "text": [
      "[[ 0.85556762 -1.05265191 -1.17278832 -0.67520908 -0.90886192]\n",
      " [ 1.1070301  -1.05265191 -0.09665916  0.68791889  0.54649762]\n",
      " [ 0.60410513 -1.02303677 -0.8221395  -0.22083309 -0.43464364]\n",
      " [ 0.85556762 -1.02303677 -1.17278832 -0.67520908 -0.90886192]\n",
      " [ 1.1070301  -1.02303677 -1.0397836  -0.50998144 -0.72898602]\n",
      " [ 1.35849258 -1.02303677 -0.79795682 -0.20017963 -0.40193893]\n",
      " [-0.40174479 -0.99342163 -0.21757255  0.52269126  0.38297407]\n",
      " [-0.15028231 -0.99342163 -0.21757255  0.52269126  0.38297407]\n",
      " [ 0.60410513 -0.99342163 -1.17278832 -0.67520908 -0.90886192]\n",
      " [ 0.85556762 -0.99342163 -1.17278832 -0.67520908 -0.90886192]\n",
      " [ 1.1070301  -0.99342163 -1.17278832 -0.67520908 -0.90886192]\n",
      " [ 1.35849258 -0.99342163 -1.17278832 -0.67520908 -0.90886192]\n",
      " [-0.65320727 -0.96380648 -0.02411113  0.77053271  0.64461174]\n",
      " [-0.40174479 -0.96380648 -0.88259619 -0.44802108 -0.51640541]\n",
      " [-0.15028231 -0.96380648 -0.83423083 -0.40671417 -0.450996  ]\n",
      " [ 0.10118017 -0.96380648 -0.02411113  0.77053271  0.64461174]\n",
      " [ 0.35264265 -0.96380648  0.36281171  1.26621561  1.16788708]\n",
      " [ 0.60410513 -0.96380648 -1.17278832 -0.67520908 -0.90886192]\n",
      " [ 0.85556762 -0.96380648 -0.89468753 -0.32410036 -0.53275777]\n",
      " [ 1.1070301  -0.96380648 -0.21757255  0.52269126  0.38297407]\n",
      " [ 1.35849258 -0.96380648 -1.17278832 -0.67520908 -0.90886192]\n",
      " [ 1.60995506 -0.96380648 -0.02411113  0.77053271  0.64461174]\n",
      " [-0.65320727 -0.93419134 -1.17278832 -0.67520908 -0.90886192]\n",
      " [-0.40174479 -0.93419134 -0.59240406 -0.22083309 -0.12394891]\n",
      " [-0.15028231 -0.93419134 -0.49567335 -0.13821927  0.00686992]\n",
      " [ 0.10118017 -0.93419134 -1.17278832 -0.67520908 -0.90886192]\n",
      " [ 0.35264265 -0.93419134 -1.17278832 -0.67520908 -0.90886192]\n",
      " [ 0.60410513 -0.93419134 -1.13651431 -0.63390217 -0.85980485]\n",
      " [ 0.85556762 -0.93419134  0.02425422  0.83249307  0.71002116]\n",
      " [ 1.35849258 -0.93419134 -0.84632217 -0.26213999 -0.46734835]\n",
      " [ 1.60995506 -0.93419134 -1.17278832 -0.67520908 -0.90886192]\n",
      " [-0.65320727 -0.90457619 -1.17278832 -0.67520908 -0.90886192]\n",
      " [-0.40174479 -0.90457619 -0.59240406 -0.22083309 -0.12394891]\n",
      " [-0.15028231 -0.90457619 -0.49567335 -0.13821927  0.00686992]\n",
      " [ 0.10118017 -0.90457619 -1.17278832 -0.67520908 -0.90886192]\n",
      " [ 0.35264265 -0.90457619 -1.17278832 -0.67520908 -0.90886192]\n",
      " [ 0.60410513 -0.90457619 -0.99141824 -0.44802108 -0.6635766 ]\n",
      " [ 1.35849258 -0.90457619  0.16935029  1.01837416  0.90624941]\n",
      " [ 1.60995506 -0.90457619 -1.17278832 -0.67520908 -0.90886192]\n",
      " [-0.65320727 -0.87496105 -1.17278832 -0.67520908 -0.90886192]\n",
      " [-0.40174479 -0.87496105 -0.59240406 -0.22083309 -0.12394891]\n",
      " [-0.15028231 -0.87496105 -0.49567335 -0.13821927  0.00686992]\n",
      " [ 0.10118017 -0.87496105 -1.17278832 -0.67520908 -0.90886192]\n",
      " [ 0.35264265 -0.87496105 -1.17278832 -0.67520908 -0.90886192]\n",
      " [ 0.60410513 -0.87496105 -0.99141824 -0.44802108 -0.6635766 ]\n",
      " [ 1.35849258 -0.87496105  0.16935029  1.01837416  0.90624941]\n",
      " [ 1.60995506 -0.87496105 -1.17278832 -0.67520908 -0.90886192]\n",
      " [-0.65320727 -0.8453459  -1.17278832 -0.67520908 -0.90886192]\n",
      " [-0.40174479 -0.8453459  -0.20548121  0.4607309   0.39932643]\n",
      " [ 0.10118017 -0.8453459  -0.65286075 -0.01429855 -0.20571068]\n",
      " [ 0.35264265 -0.8453459  -1.17278832 -0.67520908 -0.90886192]\n",
      " [ 0.60410513 -0.8453459  -1.12442297 -0.61324871 -0.8434525 ]\n",
      " [ 0.85556762 -0.8453459   0.18144163  1.01837416  0.92260176]\n",
      " [ 1.35849258 -0.8453459   0.16935029  1.01837416  0.90624941]\n",
      " [ 1.60995506 -0.8453459  -1.17278832 -0.67520908 -0.90886192]\n",
      " [-0.65320727 -0.81573076 -1.17278832 -0.67520908 -0.90886192]\n",
      " [-0.40174479 -0.81573076 -0.6044954   0.04766182 -0.14030126]\n",
      " [ 0.10118017 -0.81573076 -0.41103397  0.29550327  0.1213364 ]\n",
      " [ 0.35264265 -0.81573076 -1.17278832 -0.67520908 -0.90886192]\n",
      " [ 0.60410513 -0.81573076 -1.17278832 -0.67520908 -0.90886192]\n",
      " [ 0.85556762 -0.81573076 -0.6044954   0.04766182 -0.14030126]\n",
      " [ 1.35849258 -0.81573076  0.16935029  1.01837416  0.90624941]\n",
      " [ 1.60995506 -0.81573076 -1.17278832 -0.67520908 -0.90886192]\n",
      " [-0.65320727 -0.78611561 -0.6044954   0.04766182 -0.14030126]\n",
      " [-0.40174479 -0.78611561 -1.17278832 -0.67520908 -0.90886192]\n",
      " [-0.15028231 -0.78611561  0.12098493  0.9564138   0.84083999]\n",
      " [ 0.10118017 -0.78611561 -0.6044954   0.04766182 -0.14030126]\n",
      " [ 0.35264265 -0.78611561 -1.17278832 -0.67520908 -0.90886192]\n",
      " [ 0.60410513 -0.78611561 -1.17278832 -0.67520908 -0.90886192]\n",
      " [ 0.85556762 -0.78611561 -0.74959146 -0.13821927 -0.33652952]\n",
      " [ 1.35849258 -0.78611561 -0.1692072   0.58465162  0.44838349]\n",
      " [ 1.60995506 -0.78611561 -1.17278832 -0.67520908 -0.90886192]\n",
      " [-0.40174479 -0.75650047 -1.17278832 -0.67520908 -0.90886192]\n",
      " [-0.15028231 -0.75650047 -1.17278832 -0.67520908 -0.90886192]\n",
      " [ 0.10118017 -0.75650047 -1.17278832 -0.67520908 -0.90886192]\n",
      " [ 0.35264265 -0.75650047 -1.01560092 -0.46867454 -0.69628131]\n",
      " [ 0.60410513 -0.75650047 -1.00350958 -0.44802108 -0.67992896]\n",
      " [ 0.85556762 -0.75650047 -1.17278832 -0.67520908 -0.90886192]\n",
      " [ 1.1070301  -0.75650047 -1.17278832 -0.67520908 -0.90886192]\n",
      " [ 1.35849258 -0.75650047 -1.17278832 -0.67520908 -0.90886192]\n",
      " [ 1.60995506 -0.75650047 -1.17278832 -0.67520908 -0.90886192]\n",
      " [-0.40174479 -0.72688532 -1.17278832 -0.67520908 -0.90886192]\n",
      " [-0.15028231 -0.72688532 -1.17278832 -0.67520908 -0.90886192]\n",
      " [ 0.10118017 -0.72688532 -1.17278832 -0.67520908 -0.90886192]\n",
      " [ 0.85556762 -0.72688532 -1.17278832 -0.67520908 -0.90886192]\n",
      " [ 1.1070301  -0.72688532 -1.17278832 -0.67520908 -0.90886192]\n",
      " [ 1.35849258 -0.72688532 -1.17278832 -0.67520908 -0.90886192]\n",
      " [ 1.60995506 -0.72688532 -1.17278832 -0.67520908 -0.90886192]\n",
      " [-0.40174479 -0.69727018  0.14516761  0.97706725  0.8735447 ]\n",
      " [-0.15028231 -0.69727018 -1.17278832 -0.67520908 -0.90886192]\n",
      " [ 0.10118017 -0.69727018 -1.17278832 -0.67520908 -0.90886192]\n",
      " [ 1.1070301  -0.69727018 -1.17278832 -0.67520908 -0.90886192]\n",
      " [ 1.35849258 -0.69727018 -0.58031272 -0.20017963 -0.10759656]\n",
      " [-0.15028231 -0.66765503  0.36281171  1.26621561  1.16788708]\n",
      " [ 0.10118017 -0.66765503  0.36281171  1.26621561  1.16788708]\n",
      " [ 1.1070301  -0.66765503  0.36281171  1.26621561  1.16788708]\n",
      " [-0.15028231  0.84271734  1.59612828  2.07170032  2.21443775]\n",
      " [-0.40174479  0.87233248  1.40266685  1.30752252  1.52763887]\n",
      " [-0.15028231  0.87233248  0.68927786 -1.33611961 -0.90886192]\n",
      " [ 0.10118017  0.87233248  1.59612828  2.07170032  2.21443775]\n",
      " [-0.65320727  0.90194763  0.83437393 -0.77847635 -0.40193893]\n",
      " [-0.40174479  0.90194763  0.77391723 -0.98501089 -0.59816718]\n",
      " [-0.15028231  0.90194763  0.68927786 -1.33611961 -0.90886192]\n",
      " [ 0.10118017  0.90194763  1.59612828  2.07170032  2.21443775]\n",
      " [-1.15613224  0.93156277  1.17293142  0.4607309   0.74272587]\n",
      " [-0.90466976  0.93156277  1.03992669 -0.01429855  0.3012123 ]\n",
      " [-0.65320727  0.93156277  0.89483062 -0.57194181 -0.20571068]\n",
      " [-0.40174479  0.93156277  1.20920543  0.60530508  0.8735447 ]\n",
      " [-0.15028231  0.93156277  1.16084008  0.41942399  0.6936688 ]\n",
      " [-1.6590572   0.96117792  1.55985426  1.92712614  2.08361892]\n",
      " [-1.40759472  0.96117792  1.2938448   0.93576034  1.16788708]\n",
      " [-1.15613224  0.96117792  1.2938448   0.93576034  1.16788708]\n",
      " [-0.90466976  0.96117792  1.2938448   0.93576034  1.16788708]\n",
      " [-0.65320727  0.96117792  1.45103221  1.4934036   1.69116241]\n",
      " [-0.40174479  0.96117792  1.45103221  1.4934036   1.69116241]\n",
      " [-0.15028231  0.96117792  1.36639284  1.20425525  1.42952475]\n",
      " [-1.91051968  0.99079306  1.59612828  2.07170032  2.21443775]\n",
      " [-1.6590572   0.99079306  1.08829204  0.15092909  0.44838349]\n",
      " [-1.40759472  0.99079306  0.68927786 -1.33611961 -0.90886192]\n",
      " [-0.40174479  0.99079306  1.36639284  1.20425525  1.42952475]\n",
      " [-0.15028231  0.99079306  1.49939756  1.69993814  1.88739067]\n",
      " [-2.16198216  1.02040821  1.59612828  2.07170032  2.21443775]\n",
      " [-1.91051968  1.02040821  0.68927786 -1.33611961 -0.90886192]\n",
      " [-1.6590572   1.02040821  0.68927786 -1.33611961 -0.90886192]\n",
      " [-1.40759472  1.02040821  0.68927786 -1.33611961 -0.90886192]\n",
      " [-0.65320727  1.02040821  1.54776292  1.84451232  2.0182095 ]\n",
      " [-0.40174479  1.02040821  1.1366574   0.35746363  0.64461174]\n",
      " [-2.16198216  1.05002335  1.59612828  2.07170032  2.21443775]\n",
      " [-1.91051968  1.05002335  0.68927786 -1.33611961 -0.90886192]\n",
      " [-1.6590572   1.05002335  0.68927786 -1.33611961 -0.90886192]\n",
      " [-1.40759472  1.05002335  0.68927786 -1.33611961 -0.90886192]\n",
      " [-1.15613224  1.05002335  0.82228259 -0.84043671 -0.46734835]\n",
      " [-0.90466976  1.05002335  0.83437393 -0.77847635 -0.40193893]\n",
      " [-0.65320727  1.05002335  0.79809991 -0.92305053 -0.53275777]\n",
      " [-0.40174479  1.05002335  1.1366574   0.35746363  0.64461174]\n",
      " [-1.91051968  1.0796385   1.20920543  0.60530508  0.8735447 ]\n",
      " [-1.6590572   1.0796385   0.68927786 -1.33611961 -0.90886192]\n",
      " [-1.40759472  1.0796385   0.68927786 -1.33611961 -0.90886192]\n",
      " [-1.15613224  1.0796385   0.68927786 -1.33611961 -0.90886192]\n",
      " [-0.90466976  1.0796385   0.68927786 -1.33611961 -0.90886192]\n",
      " [-0.65320727  1.0796385   0.68927786 -1.33611961 -0.90886192]\n",
      " [-0.40174479  1.0796385   0.82228259 -0.81978325 -0.43464364]\n",
      " [-0.15028231  1.0796385   1.06410937  0.06831527  0.38297407]\n",
      " [-1.91051968  1.10925364  1.68076765  2.34019522  2.47607542]\n",
      " [-1.6590572   1.10925364  1.2938448   0.93576034  1.16788708]\n",
      " [-1.40759472  1.10925364  1.2938448   0.93576034  1.16788708]\n",
      " [-1.15613224  1.10925364  0.76182589 -1.0676247  -0.6635766 ]\n",
      " [-0.90466976  1.10925364  0.68927786 -1.33611961 -0.90886192]\n",
      " [-0.65320727  1.10925364  0.68927786 -1.33611961 -0.90886192]\n",
      " [-0.40174479  1.10925364  0.68927786 -1.33611961 -0.90886192]\n",
      " [-0.15028231  1.10925364  0.59254715 -0.7991298  -0.32017716]\n",
      " [-1.15613224  1.13886879  1.10038338  0.21288945  0.51379291]\n",
      " [-0.90466976  1.13886879  0.7013692  -1.27415924 -0.85980485]\n",
      " [-0.65320727  1.13886879  0.99156133 -0.20017963  0.1213364 ]\n",
      " [-0.40174479  1.13886879  0.84646527 -0.44802108 -0.07489185]\n",
      " [-0.15028231  1.13886879  0.68927786  0.31615672  0.77543057]\n",
      " [-0.90466976  1.16848393  0.83437393 -0.7991298  -0.41829129]\n",
      " [-1.15613224  1.19809907  0.96737865 -0.28279345  0.05592699]\n",
      " [-1.15613224  1.22771422  1.5719456   1.94777959  2.11632363]\n",
      " [-0.90466976  1.55348081  0.9190133   1.63797778  1.31505827]\n",
      " [ 1.60995506  1.55348081  0.9190133   1.63797778  1.31505827]\n",
      " [-0.15028231  1.6127111   0.96737865  1.7205916   1.41317239]\n",
      " [ 1.1070301   1.64232624  0.82228259  1.4934036   1.11883001]\n",
      " [ 0.85556762  1.84963226  0.9190133   1.63797778  1.31505827]\n",
      " [ 1.1070301   1.84963226  0.9190133   1.63797778  1.31505827]\n",
      " [ 1.35849258  1.84963226  0.9190133   1.63797778  1.31505827]\n",
      " [ 1.60995506  1.84963226  0.9190133   1.63797778  1.31505827]\n",
      " [ 1.86141754  1.84963226  0.9190133   1.63797778  1.31505827]\n",
      " [ 2.11288002  1.84963226  0.97946999  1.74124505  1.42952475]]\n",
      "字母分离失败\n",
      "1\n"
     ]
    },
    {
     "ename": "KeyboardInterrupt",
     "evalue": "",
     "output_type": "error",
     "traceback": [
      "\u001b[0;31m---------------------------------------------------------------------------\u001b[0m",
      "\u001b[0;31mTypeError\u001b[0m                                 Traceback (most recent call last)",
      "\u001b[0;32m~/anaconda3/lib/python3.7/site-packages/urllib3/connectionpool.py\u001b[0m in \u001b[0;36m_make_request\u001b[0;34m(self, conn, method, url, timeout, chunked, **httplib_request_kw)\u001b[0m\n\u001b[1;32m    376\u001b[0m             \u001b[0;32mtry\u001b[0m\u001b[0;34m:\u001b[0m  \u001b[0;31m# Python 2.7, use buffering of HTTP responses\u001b[0m\u001b[0;34m\u001b[0m\u001b[0;34m\u001b[0m\u001b[0m\n\u001b[0;32m--> 377\u001b[0;31m                 \u001b[0mhttplib_response\u001b[0m \u001b[0;34m=\u001b[0m \u001b[0mconn\u001b[0m\u001b[0;34m.\u001b[0m\u001b[0mgetresponse\u001b[0m\u001b[0;34m(\u001b[0m\u001b[0mbuffering\u001b[0m\u001b[0;34m=\u001b[0m\u001b[0;32mTrue\u001b[0m\u001b[0;34m)\u001b[0m\u001b[0;34m\u001b[0m\u001b[0;34m\u001b[0m\u001b[0m\n\u001b[0m\u001b[1;32m    378\u001b[0m             \u001b[0;32mexcept\u001b[0m \u001b[0mTypeError\u001b[0m\u001b[0;34m:\u001b[0m  \u001b[0;31m# Python 3\u001b[0m\u001b[0;34m\u001b[0m\u001b[0;34m\u001b[0m\u001b[0m\n",
      "\u001b[0;31mTypeError\u001b[0m: getresponse() got an unexpected keyword argument 'buffering'",
      "\nDuring handling of the above exception, another exception occurred:\n",
      "\u001b[0;31mKeyboardInterrupt\u001b[0m                         Traceback (most recent call last)",
      "\u001b[0;32m<ipython-input-371-54d0c6d0b0a9>\u001b[0m in \u001b[0;36m<module>\u001b[0;34m\u001b[0m\n\u001b[1;32m     57\u001b[0m         \u001b[0;32mbreak\u001b[0m\u001b[0;34m\u001b[0m\u001b[0;34m\u001b[0m\u001b[0m\n\u001b[1;32m     58\u001b[0m     \u001b[0;32melse\u001b[0m\u001b[0;34m:\u001b[0m\u001b[0;34m\u001b[0m\u001b[0;34m\u001b[0m\u001b[0m\n\u001b[0;32m---> 59\u001b[0;31m         \u001b[0mdriver\u001b[0m\u001b[0;34m.\u001b[0m\u001b[0mfind_element_by_link_text\u001b[0m\u001b[0;34m(\u001b[0m\u001b[0;34m'刷新'\u001b[0m\u001b[0;34m)\u001b[0m\u001b[0;34m.\u001b[0m\u001b[0mclick\u001b[0m\u001b[0;34m(\u001b[0m\u001b[0;34m)\u001b[0m\u001b[0;34m\u001b[0m\u001b[0;34m\u001b[0m\u001b[0m\n\u001b[0m\u001b[1;32m     60\u001b[0m \u001b[0m输入框\u001b[0m\u001b[0;34m=\u001b[0m\u001b[0mdriver\u001b[0m\u001b[0;34m.\u001b[0m\u001b[0mfind_element_by_id\u001b[0m\u001b[0;34m(\u001b[0m\u001b[0;34m'txt_captcha_79449'\u001b[0m\u001b[0;34m)\u001b[0m\u001b[0;34m\u001b[0m\u001b[0;34m\u001b[0m\u001b[0m\n\u001b[1;32m     61\u001b[0m \u001b[0m输入框\u001b[0m\u001b[0;34m.\u001b[0m\u001b[0mclick\u001b[0m\u001b[0;34m(\u001b[0m\u001b[0;34m)\u001b[0m\u001b[0;34m\u001b[0m\u001b[0;34m\u001b[0m\u001b[0m\n",
      "\u001b[0;32m~/anaconda3/lib/python3.7/site-packages/selenium/webdriver/remote/webelement.py\u001b[0m in \u001b[0;36mclick\u001b[0;34m(self)\u001b[0m\n\u001b[1;32m     78\u001b[0m     \u001b[0;32mdef\u001b[0m \u001b[0mclick\u001b[0m\u001b[0;34m(\u001b[0m\u001b[0mself\u001b[0m\u001b[0;34m)\u001b[0m\u001b[0;34m:\u001b[0m\u001b[0;34m\u001b[0m\u001b[0;34m\u001b[0m\u001b[0m\n\u001b[1;32m     79\u001b[0m         \u001b[0;34m\"\"\"Clicks the element.\"\"\"\u001b[0m\u001b[0;34m\u001b[0m\u001b[0;34m\u001b[0m\u001b[0m\n\u001b[0;32m---> 80\u001b[0;31m         \u001b[0mself\u001b[0m\u001b[0;34m.\u001b[0m\u001b[0m_execute\u001b[0m\u001b[0;34m(\u001b[0m\u001b[0mCommand\u001b[0m\u001b[0;34m.\u001b[0m\u001b[0mCLICK_ELEMENT\u001b[0m\u001b[0;34m)\u001b[0m\u001b[0;34m\u001b[0m\u001b[0;34m\u001b[0m\u001b[0m\n\u001b[0m\u001b[1;32m     81\u001b[0m \u001b[0;34m\u001b[0m\u001b[0m\n\u001b[1;32m     82\u001b[0m     \u001b[0;32mdef\u001b[0m \u001b[0msubmit\u001b[0m\u001b[0;34m(\u001b[0m\u001b[0mself\u001b[0m\u001b[0;34m)\u001b[0m\u001b[0;34m:\u001b[0m\u001b[0;34m\u001b[0m\u001b[0;34m\u001b[0m\u001b[0m\n",
      "\u001b[0;32m~/anaconda3/lib/python3.7/site-packages/selenium/webdriver/remote/webelement.py\u001b[0m in \u001b[0;36m_execute\u001b[0;34m(self, command, params)\u001b[0m\n\u001b[1;32m    631\u001b[0m             \u001b[0mparams\u001b[0m \u001b[0;34m=\u001b[0m \u001b[0;34m{\u001b[0m\u001b[0;34m}\u001b[0m\u001b[0;34m\u001b[0m\u001b[0;34m\u001b[0m\u001b[0m\n\u001b[1;32m    632\u001b[0m         \u001b[0mparams\u001b[0m\u001b[0;34m[\u001b[0m\u001b[0;34m'id'\u001b[0m\u001b[0;34m]\u001b[0m \u001b[0;34m=\u001b[0m \u001b[0mself\u001b[0m\u001b[0;34m.\u001b[0m\u001b[0m_id\u001b[0m\u001b[0;34m\u001b[0m\u001b[0;34m\u001b[0m\u001b[0m\n\u001b[0;32m--> 633\u001b[0;31m         \u001b[0;32mreturn\u001b[0m \u001b[0mself\u001b[0m\u001b[0;34m.\u001b[0m\u001b[0m_parent\u001b[0m\u001b[0;34m.\u001b[0m\u001b[0mexecute\u001b[0m\u001b[0;34m(\u001b[0m\u001b[0mcommand\u001b[0m\u001b[0;34m,\u001b[0m \u001b[0mparams\u001b[0m\u001b[0;34m)\u001b[0m\u001b[0;34m\u001b[0m\u001b[0;34m\u001b[0m\u001b[0m\n\u001b[0m\u001b[1;32m    634\u001b[0m \u001b[0;34m\u001b[0m\u001b[0m\n\u001b[1;32m    635\u001b[0m     \u001b[0;32mdef\u001b[0m \u001b[0mfind_element\u001b[0m\u001b[0;34m(\u001b[0m\u001b[0mself\u001b[0m\u001b[0;34m,\u001b[0m \u001b[0mby\u001b[0m\u001b[0;34m=\u001b[0m\u001b[0mBy\u001b[0m\u001b[0;34m.\u001b[0m\u001b[0mID\u001b[0m\u001b[0;34m,\u001b[0m \u001b[0mvalue\u001b[0m\u001b[0;34m=\u001b[0m\u001b[0;32mNone\u001b[0m\u001b[0;34m)\u001b[0m\u001b[0;34m:\u001b[0m\u001b[0;34m\u001b[0m\u001b[0;34m\u001b[0m\u001b[0m\n",
      "\u001b[0;32m~/anaconda3/lib/python3.7/site-packages/selenium/webdriver/remote/webdriver.py\u001b[0m in \u001b[0;36mexecute\u001b[0;34m(self, driver_command, params)\u001b[0m\n\u001b[1;32m    317\u001b[0m \u001b[0;34m\u001b[0m\u001b[0m\n\u001b[1;32m    318\u001b[0m         \u001b[0mparams\u001b[0m \u001b[0;34m=\u001b[0m \u001b[0mself\u001b[0m\u001b[0;34m.\u001b[0m\u001b[0m_wrap_value\u001b[0m\u001b[0;34m(\u001b[0m\u001b[0mparams\u001b[0m\u001b[0;34m)\u001b[0m\u001b[0;34m\u001b[0m\u001b[0;34m\u001b[0m\u001b[0m\n\u001b[0;32m--> 319\u001b[0;31m         \u001b[0mresponse\u001b[0m \u001b[0;34m=\u001b[0m \u001b[0mself\u001b[0m\u001b[0;34m.\u001b[0m\u001b[0mcommand_executor\u001b[0m\u001b[0;34m.\u001b[0m\u001b[0mexecute\u001b[0m\u001b[0;34m(\u001b[0m\u001b[0mdriver_command\u001b[0m\u001b[0;34m,\u001b[0m \u001b[0mparams\u001b[0m\u001b[0;34m)\u001b[0m\u001b[0;34m\u001b[0m\u001b[0;34m\u001b[0m\u001b[0m\n\u001b[0m\u001b[1;32m    320\u001b[0m         \u001b[0;32mif\u001b[0m \u001b[0mresponse\u001b[0m\u001b[0;34m:\u001b[0m\u001b[0;34m\u001b[0m\u001b[0;34m\u001b[0m\u001b[0m\n\u001b[1;32m    321\u001b[0m             \u001b[0mself\u001b[0m\u001b[0;34m.\u001b[0m\u001b[0merror_handler\u001b[0m\u001b[0;34m.\u001b[0m\u001b[0mcheck_response\u001b[0m\u001b[0;34m(\u001b[0m\u001b[0mresponse\u001b[0m\u001b[0;34m)\u001b[0m\u001b[0;34m\u001b[0m\u001b[0;34m\u001b[0m\u001b[0m\n",
      "\u001b[0;32m~/anaconda3/lib/python3.7/site-packages/selenium/webdriver/remote/remote_connection.py\u001b[0m in \u001b[0;36mexecute\u001b[0;34m(self, command, params)\u001b[0m\n\u001b[1;32m    372\u001b[0m         \u001b[0mdata\u001b[0m \u001b[0;34m=\u001b[0m \u001b[0mutils\u001b[0m\u001b[0;34m.\u001b[0m\u001b[0mdump_json\u001b[0m\u001b[0;34m(\u001b[0m\u001b[0mparams\u001b[0m\u001b[0;34m)\u001b[0m\u001b[0;34m\u001b[0m\u001b[0;34m\u001b[0m\u001b[0m\n\u001b[1;32m    373\u001b[0m         \u001b[0murl\u001b[0m \u001b[0;34m=\u001b[0m \u001b[0;34m'%s%s'\u001b[0m \u001b[0;34m%\u001b[0m \u001b[0;34m(\u001b[0m\u001b[0mself\u001b[0m\u001b[0;34m.\u001b[0m\u001b[0m_url\u001b[0m\u001b[0;34m,\u001b[0m \u001b[0mpath\u001b[0m\u001b[0;34m)\u001b[0m\u001b[0;34m\u001b[0m\u001b[0;34m\u001b[0m\u001b[0m\n\u001b[0;32m--> 374\u001b[0;31m         \u001b[0;32mreturn\u001b[0m \u001b[0mself\u001b[0m\u001b[0;34m.\u001b[0m\u001b[0m_request\u001b[0m\u001b[0;34m(\u001b[0m\u001b[0mcommand_info\u001b[0m\u001b[0;34m[\u001b[0m\u001b[0;36m0\u001b[0m\u001b[0;34m]\u001b[0m\u001b[0;34m,\u001b[0m \u001b[0murl\u001b[0m\u001b[0;34m,\u001b[0m \u001b[0mbody\u001b[0m\u001b[0;34m=\u001b[0m\u001b[0mdata\u001b[0m\u001b[0;34m)\u001b[0m\u001b[0;34m\u001b[0m\u001b[0;34m\u001b[0m\u001b[0m\n\u001b[0m\u001b[1;32m    375\u001b[0m \u001b[0;34m\u001b[0m\u001b[0m\n\u001b[1;32m    376\u001b[0m     \u001b[0;32mdef\u001b[0m \u001b[0m_request\u001b[0m\u001b[0;34m(\u001b[0m\u001b[0mself\u001b[0m\u001b[0;34m,\u001b[0m \u001b[0mmethod\u001b[0m\u001b[0;34m,\u001b[0m \u001b[0murl\u001b[0m\u001b[0;34m,\u001b[0m \u001b[0mbody\u001b[0m\u001b[0;34m=\u001b[0m\u001b[0;32mNone\u001b[0m\u001b[0;34m)\u001b[0m\u001b[0;34m:\u001b[0m\u001b[0;34m\u001b[0m\u001b[0;34m\u001b[0m\u001b[0m\n",
      "\u001b[0;32m~/anaconda3/lib/python3.7/site-packages/selenium/webdriver/remote/remote_connection.py\u001b[0m in \u001b[0;36m_request\u001b[0;34m(self, method, url, body)\u001b[0m\n\u001b[1;32m    400\u001b[0m         \u001b[0;32melse\u001b[0m\u001b[0;34m:\u001b[0m\u001b[0;34m\u001b[0m\u001b[0;34m\u001b[0m\u001b[0m\n\u001b[1;32m    401\u001b[0m             \u001b[0mhttp\u001b[0m \u001b[0;34m=\u001b[0m \u001b[0murllib3\u001b[0m\u001b[0;34m.\u001b[0m\u001b[0mPoolManager\u001b[0m\u001b[0;34m(\u001b[0m\u001b[0mtimeout\u001b[0m\u001b[0;34m=\u001b[0m\u001b[0mself\u001b[0m\u001b[0;34m.\u001b[0m\u001b[0m_timeout\u001b[0m\u001b[0;34m)\u001b[0m\u001b[0;34m\u001b[0m\u001b[0;34m\u001b[0m\u001b[0m\n\u001b[0;32m--> 402\u001b[0;31m             \u001b[0mresp\u001b[0m \u001b[0;34m=\u001b[0m \u001b[0mhttp\u001b[0m\u001b[0;34m.\u001b[0m\u001b[0mrequest\u001b[0m\u001b[0;34m(\u001b[0m\u001b[0mmethod\u001b[0m\u001b[0;34m,\u001b[0m \u001b[0murl\u001b[0m\u001b[0;34m,\u001b[0m \u001b[0mbody\u001b[0m\u001b[0;34m=\u001b[0m\u001b[0mbody\u001b[0m\u001b[0;34m,\u001b[0m \u001b[0mheaders\u001b[0m\u001b[0;34m=\u001b[0m\u001b[0mheaders\u001b[0m\u001b[0;34m)\u001b[0m\u001b[0;34m\u001b[0m\u001b[0;34m\u001b[0m\u001b[0m\n\u001b[0m\u001b[1;32m    403\u001b[0m \u001b[0;34m\u001b[0m\u001b[0m\n\u001b[1;32m    404\u001b[0m             \u001b[0mstatuscode\u001b[0m \u001b[0;34m=\u001b[0m \u001b[0mresp\u001b[0m\u001b[0;34m.\u001b[0m\u001b[0mstatus\u001b[0m\u001b[0;34m\u001b[0m\u001b[0;34m\u001b[0m\u001b[0m\n",
      "\u001b[0;32m~/anaconda3/lib/python3.7/site-packages/urllib3/request.py\u001b[0m in \u001b[0;36mrequest\u001b[0;34m(self, method, url, fields, headers, **urlopen_kw)\u001b[0m\n\u001b[1;32m     70\u001b[0m             return self.request_encode_body(method, url, fields=fields,\n\u001b[1;32m     71\u001b[0m                                             \u001b[0mheaders\u001b[0m\u001b[0;34m=\u001b[0m\u001b[0mheaders\u001b[0m\u001b[0;34m,\u001b[0m\u001b[0;34m\u001b[0m\u001b[0;34m\u001b[0m\u001b[0m\n\u001b[0;32m---> 72\u001b[0;31m                                             **urlopen_kw)\n\u001b[0m\u001b[1;32m     73\u001b[0m \u001b[0;34m\u001b[0m\u001b[0m\n\u001b[1;32m     74\u001b[0m     def request_encode_url(self, method, url, fields=None, headers=None,\n",
      "\u001b[0;32m~/anaconda3/lib/python3.7/site-packages/urllib3/request.py\u001b[0m in \u001b[0;36mrequest_encode_body\u001b[0;34m(self, method, url, fields, headers, encode_multipart, multipart_boundary, **urlopen_kw)\u001b[0m\n\u001b[1;32m    148\u001b[0m         \u001b[0mextra_kw\u001b[0m\u001b[0;34m.\u001b[0m\u001b[0mupdate\u001b[0m\u001b[0;34m(\u001b[0m\u001b[0murlopen_kw\u001b[0m\u001b[0;34m)\u001b[0m\u001b[0;34m\u001b[0m\u001b[0;34m\u001b[0m\u001b[0m\n\u001b[1;32m    149\u001b[0m \u001b[0;34m\u001b[0m\u001b[0m\n\u001b[0;32m--> 150\u001b[0;31m         \u001b[0;32mreturn\u001b[0m \u001b[0mself\u001b[0m\u001b[0;34m.\u001b[0m\u001b[0murlopen\u001b[0m\u001b[0;34m(\u001b[0m\u001b[0mmethod\u001b[0m\u001b[0;34m,\u001b[0m \u001b[0murl\u001b[0m\u001b[0;34m,\u001b[0m \u001b[0;34m**\u001b[0m\u001b[0mextra_kw\u001b[0m\u001b[0;34m)\u001b[0m\u001b[0;34m\u001b[0m\u001b[0;34m\u001b[0m\u001b[0m\n\u001b[0m",
      "\u001b[0;32m~/anaconda3/lib/python3.7/site-packages/urllib3/poolmanager.py\u001b[0m in \u001b[0;36murlopen\u001b[0;34m(self, method, url, redirect, **kw)\u001b[0m\n\u001b[1;32m    322\u001b[0m             \u001b[0mresponse\u001b[0m \u001b[0;34m=\u001b[0m \u001b[0mconn\u001b[0m\u001b[0;34m.\u001b[0m\u001b[0murlopen\u001b[0m\u001b[0;34m(\u001b[0m\u001b[0mmethod\u001b[0m\u001b[0;34m,\u001b[0m \u001b[0murl\u001b[0m\u001b[0;34m,\u001b[0m \u001b[0;34m**\u001b[0m\u001b[0mkw\u001b[0m\u001b[0;34m)\u001b[0m\u001b[0;34m\u001b[0m\u001b[0;34m\u001b[0m\u001b[0m\n\u001b[1;32m    323\u001b[0m         \u001b[0;32melse\u001b[0m\u001b[0;34m:\u001b[0m\u001b[0;34m\u001b[0m\u001b[0;34m\u001b[0m\u001b[0m\n\u001b[0;32m--> 324\u001b[0;31m             \u001b[0mresponse\u001b[0m \u001b[0;34m=\u001b[0m \u001b[0mconn\u001b[0m\u001b[0;34m.\u001b[0m\u001b[0murlopen\u001b[0m\u001b[0;34m(\u001b[0m\u001b[0mmethod\u001b[0m\u001b[0;34m,\u001b[0m \u001b[0mu\u001b[0m\u001b[0;34m.\u001b[0m\u001b[0mrequest_uri\u001b[0m\u001b[0;34m,\u001b[0m \u001b[0;34m**\u001b[0m\u001b[0mkw\u001b[0m\u001b[0;34m)\u001b[0m\u001b[0;34m\u001b[0m\u001b[0;34m\u001b[0m\u001b[0m\n\u001b[0m\u001b[1;32m    325\u001b[0m \u001b[0;34m\u001b[0m\u001b[0m\n\u001b[1;32m    326\u001b[0m         \u001b[0mredirect_location\u001b[0m \u001b[0;34m=\u001b[0m \u001b[0mredirect\u001b[0m \u001b[0;32mand\u001b[0m \u001b[0mresponse\u001b[0m\u001b[0;34m.\u001b[0m\u001b[0mget_redirect_location\u001b[0m\u001b[0;34m(\u001b[0m\u001b[0;34m)\u001b[0m\u001b[0;34m\u001b[0m\u001b[0;34m\u001b[0m\u001b[0m\n",
      "\u001b[0;32m~/anaconda3/lib/python3.7/site-packages/urllib3/connectionpool.py\u001b[0m in \u001b[0;36murlopen\u001b[0;34m(self, method, url, body, headers, retries, redirect, assert_same_host, timeout, pool_timeout, release_conn, chunked, body_pos, **response_kw)\u001b[0m\n\u001b[1;32m    598\u001b[0m                                                   \u001b[0mtimeout\u001b[0m\u001b[0;34m=\u001b[0m\u001b[0mtimeout_obj\u001b[0m\u001b[0;34m,\u001b[0m\u001b[0;34m\u001b[0m\u001b[0;34m\u001b[0m\u001b[0m\n\u001b[1;32m    599\u001b[0m                                                   \u001b[0mbody\u001b[0m\u001b[0;34m=\u001b[0m\u001b[0mbody\u001b[0m\u001b[0;34m,\u001b[0m \u001b[0mheaders\u001b[0m\u001b[0;34m=\u001b[0m\u001b[0mheaders\u001b[0m\u001b[0;34m,\u001b[0m\u001b[0;34m\u001b[0m\u001b[0;34m\u001b[0m\u001b[0m\n\u001b[0;32m--> 600\u001b[0;31m                                                   chunked=chunked)\n\u001b[0m\u001b[1;32m    601\u001b[0m \u001b[0;34m\u001b[0m\u001b[0m\n\u001b[1;32m    602\u001b[0m             \u001b[0;31m# If we're going to release the connection in ``finally:``, then\u001b[0m\u001b[0;34m\u001b[0m\u001b[0;34m\u001b[0m\u001b[0;34m\u001b[0m\u001b[0m\n",
      "\u001b[0;32m~/anaconda3/lib/python3.7/site-packages/urllib3/connectionpool.py\u001b[0m in \u001b[0;36m_make_request\u001b[0;34m(self, conn, method, url, timeout, chunked, **httplib_request_kw)\u001b[0m\n\u001b[1;32m    378\u001b[0m             \u001b[0;32mexcept\u001b[0m \u001b[0mTypeError\u001b[0m\u001b[0;34m:\u001b[0m  \u001b[0;31m# Python 3\u001b[0m\u001b[0;34m\u001b[0m\u001b[0;34m\u001b[0m\u001b[0m\n\u001b[1;32m    379\u001b[0m                 \u001b[0;32mtry\u001b[0m\u001b[0;34m:\u001b[0m\u001b[0;34m\u001b[0m\u001b[0;34m\u001b[0m\u001b[0m\n\u001b[0;32m--> 380\u001b[0;31m                     \u001b[0mhttplib_response\u001b[0m \u001b[0;34m=\u001b[0m \u001b[0mconn\u001b[0m\u001b[0;34m.\u001b[0m\u001b[0mgetresponse\u001b[0m\u001b[0;34m(\u001b[0m\u001b[0;34m)\u001b[0m\u001b[0;34m\u001b[0m\u001b[0;34m\u001b[0m\u001b[0m\n\u001b[0m\u001b[1;32m    381\u001b[0m                 \u001b[0;32mexcept\u001b[0m \u001b[0mException\u001b[0m \u001b[0;32mas\u001b[0m \u001b[0me\u001b[0m\u001b[0;34m:\u001b[0m\u001b[0;34m\u001b[0m\u001b[0;34m\u001b[0m\u001b[0m\n\u001b[1;32m    382\u001b[0m                     \u001b[0;31m# Remove the TypeError from the exception chain in Python 3;\u001b[0m\u001b[0;34m\u001b[0m\u001b[0;34m\u001b[0m\u001b[0;34m\u001b[0m\u001b[0m\n",
      "\u001b[0;32m~/anaconda3/lib/python3.7/http/client.py\u001b[0m in \u001b[0;36mgetresponse\u001b[0;34m(self)\u001b[0m\n\u001b[1;32m   1334\u001b[0m         \u001b[0;32mtry\u001b[0m\u001b[0;34m:\u001b[0m\u001b[0;34m\u001b[0m\u001b[0;34m\u001b[0m\u001b[0m\n\u001b[1;32m   1335\u001b[0m             \u001b[0;32mtry\u001b[0m\u001b[0;34m:\u001b[0m\u001b[0;34m\u001b[0m\u001b[0;34m\u001b[0m\u001b[0m\n\u001b[0;32m-> 1336\u001b[0;31m                 \u001b[0mresponse\u001b[0m\u001b[0;34m.\u001b[0m\u001b[0mbegin\u001b[0m\u001b[0;34m(\u001b[0m\u001b[0;34m)\u001b[0m\u001b[0;34m\u001b[0m\u001b[0;34m\u001b[0m\u001b[0m\n\u001b[0m\u001b[1;32m   1337\u001b[0m             \u001b[0;32mexcept\u001b[0m \u001b[0mConnectionError\u001b[0m\u001b[0;34m:\u001b[0m\u001b[0;34m\u001b[0m\u001b[0;34m\u001b[0m\u001b[0m\n\u001b[1;32m   1338\u001b[0m                 \u001b[0mself\u001b[0m\u001b[0;34m.\u001b[0m\u001b[0mclose\u001b[0m\u001b[0;34m(\u001b[0m\u001b[0;34m)\u001b[0m\u001b[0;34m\u001b[0m\u001b[0;34m\u001b[0m\u001b[0m\n",
      "\u001b[0;32m~/anaconda3/lib/python3.7/http/client.py\u001b[0m in \u001b[0;36mbegin\u001b[0;34m(self)\u001b[0m\n\u001b[1;32m    304\u001b[0m         \u001b[0;31m# read until we get a non-100 response\u001b[0m\u001b[0;34m\u001b[0m\u001b[0;34m\u001b[0m\u001b[0;34m\u001b[0m\u001b[0m\n\u001b[1;32m    305\u001b[0m         \u001b[0;32mwhile\u001b[0m \u001b[0;32mTrue\u001b[0m\u001b[0;34m:\u001b[0m\u001b[0;34m\u001b[0m\u001b[0;34m\u001b[0m\u001b[0m\n\u001b[0;32m--> 306\u001b[0;31m             \u001b[0mversion\u001b[0m\u001b[0;34m,\u001b[0m \u001b[0mstatus\u001b[0m\u001b[0;34m,\u001b[0m \u001b[0mreason\u001b[0m \u001b[0;34m=\u001b[0m \u001b[0mself\u001b[0m\u001b[0;34m.\u001b[0m\u001b[0m_read_status\u001b[0m\u001b[0;34m(\u001b[0m\u001b[0;34m)\u001b[0m\u001b[0;34m\u001b[0m\u001b[0;34m\u001b[0m\u001b[0m\n\u001b[0m\u001b[1;32m    307\u001b[0m             \u001b[0;32mif\u001b[0m \u001b[0mstatus\u001b[0m \u001b[0;34m!=\u001b[0m \u001b[0mCONTINUE\u001b[0m\u001b[0;34m:\u001b[0m\u001b[0;34m\u001b[0m\u001b[0;34m\u001b[0m\u001b[0m\n\u001b[1;32m    308\u001b[0m                 \u001b[0;32mbreak\u001b[0m\u001b[0;34m\u001b[0m\u001b[0;34m\u001b[0m\u001b[0m\n",
      "\u001b[0;32m~/anaconda3/lib/python3.7/http/client.py\u001b[0m in \u001b[0;36m_read_status\u001b[0;34m(self)\u001b[0m\n\u001b[1;32m    265\u001b[0m \u001b[0;34m\u001b[0m\u001b[0m\n\u001b[1;32m    266\u001b[0m     \u001b[0;32mdef\u001b[0m \u001b[0m_read_status\u001b[0m\u001b[0;34m(\u001b[0m\u001b[0mself\u001b[0m\u001b[0;34m)\u001b[0m\u001b[0;34m:\u001b[0m\u001b[0;34m\u001b[0m\u001b[0;34m\u001b[0m\u001b[0m\n\u001b[0;32m--> 267\u001b[0;31m         \u001b[0mline\u001b[0m \u001b[0;34m=\u001b[0m \u001b[0mstr\u001b[0m\u001b[0;34m(\u001b[0m\u001b[0mself\u001b[0m\u001b[0;34m.\u001b[0m\u001b[0mfp\u001b[0m\u001b[0;34m.\u001b[0m\u001b[0mreadline\u001b[0m\u001b[0;34m(\u001b[0m\u001b[0m_MAXLINE\u001b[0m \u001b[0;34m+\u001b[0m \u001b[0;36m1\u001b[0m\u001b[0;34m)\u001b[0m\u001b[0;34m,\u001b[0m \u001b[0;34m\"iso-8859-1\"\u001b[0m\u001b[0;34m)\u001b[0m\u001b[0;34m\u001b[0m\u001b[0;34m\u001b[0m\u001b[0m\n\u001b[0m\u001b[1;32m    268\u001b[0m         \u001b[0;32mif\u001b[0m \u001b[0mlen\u001b[0m\u001b[0;34m(\u001b[0m\u001b[0mline\u001b[0m\u001b[0;34m)\u001b[0m \u001b[0;34m>\u001b[0m \u001b[0m_MAXLINE\u001b[0m\u001b[0;34m:\u001b[0m\u001b[0;34m\u001b[0m\u001b[0;34m\u001b[0m\u001b[0m\n\u001b[1;32m    269\u001b[0m             \u001b[0;32mraise\u001b[0m \u001b[0mLineTooLong\u001b[0m\u001b[0;34m(\u001b[0m\u001b[0;34m\"status line\"\u001b[0m\u001b[0;34m)\u001b[0m\u001b[0;34m\u001b[0m\u001b[0;34m\u001b[0m\u001b[0m\n",
      "\u001b[0;32m~/anaconda3/lib/python3.7/socket.py\u001b[0m in \u001b[0;36mreadinto\u001b[0;34m(self, b)\u001b[0m\n\u001b[1;32m    587\u001b[0m         \u001b[0;32mwhile\u001b[0m \u001b[0;32mTrue\u001b[0m\u001b[0;34m:\u001b[0m\u001b[0;34m\u001b[0m\u001b[0;34m\u001b[0m\u001b[0m\n\u001b[1;32m    588\u001b[0m             \u001b[0;32mtry\u001b[0m\u001b[0;34m:\u001b[0m\u001b[0;34m\u001b[0m\u001b[0;34m\u001b[0m\u001b[0m\n\u001b[0;32m--> 589\u001b[0;31m                 \u001b[0;32mreturn\u001b[0m \u001b[0mself\u001b[0m\u001b[0;34m.\u001b[0m\u001b[0m_sock\u001b[0m\u001b[0;34m.\u001b[0m\u001b[0mrecv_into\u001b[0m\u001b[0;34m(\u001b[0m\u001b[0mb\u001b[0m\u001b[0;34m)\u001b[0m\u001b[0;34m\u001b[0m\u001b[0;34m\u001b[0m\u001b[0m\n\u001b[0m\u001b[1;32m    590\u001b[0m             \u001b[0;32mexcept\u001b[0m \u001b[0mtimeout\u001b[0m\u001b[0;34m:\u001b[0m\u001b[0;34m\u001b[0m\u001b[0;34m\u001b[0m\u001b[0m\n\u001b[1;32m    591\u001b[0m                 \u001b[0mself\u001b[0m\u001b[0;34m.\u001b[0m\u001b[0m_timeout_occurred\u001b[0m \u001b[0;34m=\u001b[0m \u001b[0;32mTrue\u001b[0m\u001b[0;34m\u001b[0m\u001b[0;34m\u001b[0m\u001b[0m\n",
      "\u001b[0;31mKeyboardInterrupt\u001b[0m: "
     ]
    }
   ],
   "source": [
    "driver = webdriver.Remote(command_executor='http://39.100.230.211:55151/wd/hub',desired_capabilities=DesiredCapabilities.FIREFOX)\n",
    "driver.get(\"https://cmcoins.boc.cn/BOC15_CoinSeller/welcome.html\")\n",
    "\n",
    "# def run_thread(driver):\n",
    "# index=choose_series(id_list)\n",
    "# person=id_list.iloc[index,:]\n",
    "\n",
    "请选择产品 = driver.find_element_by_id('sel_coin_product')\n",
    "请选择产品.click()\n",
    "产品=请选择产品.find_element_by_tag_name('ul')\n",
    "产品.click()\n",
    "driver.find_element_by_link_text('同意并继续预约').click()\n",
    "\n",
    "(客户姓名,手机号码,证件号码)=driver.find_elements_by_tag_name('input')\n",
    "客户姓名.click()\n",
    "客户姓名.send_keys(str(person['name']))\n",
    "手机号码.click()\n",
    "手机号码.send_keys(str(person['phone']))\n",
    "证件号码.click()\n",
    "证件号码.send_keys(str(person['id']))\n",
    "\n",
    "兑换网点=driver.find_element_by_link_text('选择')\n",
    "兑换网点.click()\n",
    "\n",
    "省份=driver.find_element_by_id('sel_province')\n",
    "省份.click()\n",
    "for ele in 省份.find_elements_by_tag_name('li'):\n",
    "    if ele.get_attribute('val')=='云南省':#'山西省':\n",
    "        ele.click()\n",
    "        break\n",
    "        \n",
    "# 城市=driver.find_element_by_id('sel_city')\n",
    "# 城市.click()\n",
    "# for ele in 城市.find_elements_by_tag_name('li'):\n",
    "#     if ele.get_attribute('val')=='运城市':\n",
    "#         ele.click()\n",
    "#         break\n",
    "\n",
    "搜索=driver.find_element_by_id('txtSearchName')\n",
    "搜索.click()\n",
    "# 搜索.send_keys('运城市分行营业部\\n')\n",
    "搜索.send_keys('迪庆州分行')\n",
    "\n",
    "driver.find_element_by_class_name('chBranch').click()\n",
    "\n",
    "driver.find_element_by_link_text('下一步').click()\n",
    "\n",
    "\n",
    "while(True):\n",
    "    验证码框=driver.find_element_by_id('captcha')\n",
    "    验证码=验证码框.screenshot_as_png\n",
    "    验证码=Image.open(BytesIO(验证码))\n",
    "    captcha=identifyCaptcha(验证码,model)\n",
    "    print(1)\n",
    "    if captcha!='':\n",
    "        break\n",
    "    else:\n",
    "        driver.find_element_by_link_text('刷新').click()\n",
    "输入框=driver.find_element_by_id('txt_captcha_79449')\n",
    "输入框.click()\n",
    "输入框.send_keys(str(captcha))\n",
    "# driver.find_element_by_link_text('确认').click()"
   ]
  },
  {
   "cell_type": "code",
   "execution_count": 453,
   "metadata": {},
   "outputs": [
    {
     "data": {
      "image/png": "[encoded data removed]",
      "text/plain": [
       "<PIL.PngImagePlugin.PngImageFile image mode=RGBA size=150x24 at 0x7FF6986273D0>"
      ]
     },
     "execution_count": 453,
     "metadata": {},
     "output_type": "execute_result"
    }
   ],
   "source": [
    "img"
   ]
  }
 ],
 "metadata": {
  "kernelspec": {
   "display_name": "Python 3",
   "language": "python",
   "name": "python3"
  },
  "language_info": {
   "codemirror_mode": {
    "name": "ipython",
    "version": 3
   },
   "file_extension": ".py",
   "mimetype": "text/x-python",
   "name": "python",
   "nbconvert_exporter": "python",
   "pygments_lexer": "ipython3",
   "version": "3.7.4"
  }
 },
 "nbformat": 4,
 "nbformat_minor": 4
}
