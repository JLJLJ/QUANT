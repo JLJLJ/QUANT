{
 "cells": [
  {
   "cell_type": "code",
   "execution_count": 1,
   "metadata": {
    "scrolled": true
   },
   "outputs": [
    {
     "name": "stdout",
     "output_type": "stream",
     "text": [
      "you are using non-interactive mdoel quantaxis\n"
     ]
    }
   ],
   "source": [
    "import QUANTAXIS as QA\n",
    "import pandas as pd\n",
    "import numpy as np\n",
    "from pprint import  pprint as print\n",
    "import sklearn as sk\n",
    "from sklearn import preprocessing\n",
    "\n",
    "def func_standardization(df):\n",
    "    #对数据去中心化，使符合正态分布\n",
    "    \n",
    "    #部分不同列的数据具有相关性，需要统一标准化\n",
    "    assemble_scale_column=['open','close','high','low']\n",
    "    df[assemble_scale_column] = preprocessing.scale(np.ravel(df[assemble_scale_column])).reshape([len(df),-1])\n",
    "    \n",
    "    #对所有数据标准化后替换，对特殊列标准化后覆盖替换\n",
    "    df['volume']=df['volume']/df['volume'].mean()\n",
    "    df['amount']=df['amount']/df['amount'].mean()\n",
    "    df[['volume','amount']]=preprocessing.scale(df[['volume','amount']])\n",
    "\n",
    "    \n",
    "    return df\n",
    "\n",
    "def max_min_close_n_days(data, n=30):\n",
    "    '''\n",
    "    自定义指标，计算当日（不含）到n天后收盘价最大值、最小值、最大值上涨比率、最小值下跌比率\n",
    "    '''\n",
    "    n_days_max=pd.Series(np.zeros(len(data)))\n",
    "    n_days_min=pd.Series(np.zeros(len(data)))\n",
    "    n_days_max_radio=pd.Series(np.zeros(len(data)))\n",
    "    n_days_min_radio=pd.Series(np.zeros(len(data)))\n",
    "    if(len(data)-n<0):\n",
    "        '''for i in range(len(data)):\n",
    "            n_days_max[i]=None\n",
    "            n_days_min[i]=None'''\n",
    "        n_days_max[0:len(data)]=None\n",
    "        n_days_min[0:len(data)]=None\n",
    "    else:\n",
    "        for i in range(len(data)-n):\n",
    "            n_days_max[i]=(max(data['close'][i+1:i+n+1]))\n",
    "            n_days_min[i]=(min(data['close'][i+1:i+n+1]))\n",
    "            n_days_max_radio[i]=(n_days_max[i]-data['close'][i])/data['close'][i]\n",
    "            n_days_min_radio[i]=(n_days_min[i]-data['close'][i])/data['close'][i]\n",
    "        n_days_max[len(data)-n:len(data)]=None\n",
    "        n_days_min[len(data)-n:len(data)]=None\n",
    "        '''for i in range(len(data)-n,len(data)):\n",
    "            n_days_max[i]=None\n",
    "            n_days_min[i]=None\n",
    "            '''\n",
    "    max_min_close_n_days=pd.DataFrame({'n_days_max':n_days_max,'n_days_min':n_days_min,\n",
    "                                       'n_days_max_radio':n_days_max_radio,'n_days_min_radio':n_days_min_radio})\n",
    "    max_min_close_n_days.index=data.index\n",
    "    return max_min_close_n_days\n",
    "\n",
    "\n",
    "stock_code=QA.QA_fetch_stock_list()['code'].tolist()\n",
    "data = QA.QA_fetch_stock_day_adv(stock_code, '2019-08-01', '2019-08-23')\n",
    "\n",
    "\n",
    "data.data=data.data.groupby('code').apply(func_standardization)\n",
    "#获取当前股票n天中的最大涨幅和最小涨幅\n",
    "res = data.add_func(max_min_close_n_days)\n",
    "dataset=pd.concat([res,data.data], axis=1).dropna(thresh=9)\n",
    "dataset['n_days_max_radio']=dataset['n_days_max_radio']/0.1\n",
    "dataset['n_days_min_radio']=dataset['n_days_min_radio']/0.1\n",
    "\n",
    "res = data.add_func(max_min_close_n_days)\n",
    "#pd.concat([res,data.data['close']],axis=1)\n",
    "#data.data.loc[(slice(None),'600351'),'close'].to_excel('b.xlsx')"
   ]
  },
  {
   "cell_type": "code",
   "execution_count": 141,
   "metadata": {},
   "outputs": [],
   "source": [
    "ind=data.add_func(QA.QA_indicator_WR,1,2)\n",
    "inc=QA.QA_DataStruct_Indicators(ind)\n"
   ]
  },
  {
   "cell_type": "code",
   "execution_count": 111,
   "metadata": {},
   "outputs": [
    {
     "name": "stdout",
     "output_type": "stream",
     "text": [
      "QAACCOUNT: THIS ACCOUNT DOESNOT HAVE ANY TRADE\n",
      "QAACCOUNT: THIS ACCOUNT DOESNOT HAVE ANY TRADE\n"
     ]
    },
    {
     "data": {
      "text/plain": [
       "True"
      ]
     },
     "execution_count": 111,
     "metadata": {},
     "output_type": "execute_result"
    }
   ],
   "source": [
    "portfolio.drop_account(account_cookie='test1')\n"
   ]
  },
  {
   "cell_type": "code",
   "execution_count": 112,
   "metadata": {
    "scrolled": true
   },
   "outputs": [
    {
     "name": "stdout",
     "output_type": "stream",
     "text": [
      " prortfolio with user_cookie  USER_Dmr5xI8V  already exist!!\n",
      "QAACCOUNT: THIS ACCOUNT DOESNOT HAVE ANY TRADE\n",
      "QAACCOUNT: THIS ACCOUNT DOESNOT HAVE ANY TRADE\n",
      "QAACCOUNT: THIS ACCOUNT DOESNOT HAVE ANY TRADE\n",
      "QAACCOUNT: THIS ACCOUNT DOESNOT HAVE ANY TRADE\n"
     ]
    }
   ],
   "source": [
    "# data.data\n",
    "# Account=QA.QA_Account()\n",
    "# Broker=QA.QA_BacktestBroker()\n",
    "user = QA.QA_User(username ='quantaxis', password = 'quantaxis')\n",
    "portfolio=user.new_portfolio('x1')\n",
    "account = portfolio.new_account(account_cookie='test1',init_cash=20000000)"
   ]
  },
  {
   "cell_type": "code",
   "execution_count": 113,
   "metadata": {},
   "outputs": [
    {
     "name": "stdout",
     "output_type": "stream",
     "text": [
      "QAACCOUNT ==> receive deal  Time 2020-02-24 09:31:00/ Code:600519/ Price:100.0/ TOWARDS:1/ Amounts:100\n"
     ]
    }
   ],
   "source": [
    "account.buy('600519',100,100,'2020-02-24',if_selfdeal=True)\n"
   ]
  },
  {
   "cell_type": "code",
   "execution_count": 114,
   "metadata": {},
   "outputs": [
    {
     "data": {
      "text/plain": [
       "Series([], Name: amount, dtype: float64)"
      ]
     },
     "execution_count": 114,
     "metadata": {},
     "output_type": "execute_result"
    }
   ],
   "source": [
    "account.sell_available"
   ]
  },
  {
   "cell_type": "code",
   "execution_count": 101,
   "metadata": {},
   "outputs": [
    {
     "data": {
      "text/plain": [
       "code\n",
       "600519    100.0\n",
       "Name: amount, dtype: float64"
      ]
     },
     "execution_count": 101,
     "metadata": {},
     "output_type": "execute_result"
    }
   ],
   "source": [
    "account.orders.pending\n",
    "\n",
    "account.message\n",
    "\n",
    "account.history_table\n",
    "\n",
    "account.hold_table()"
   ]
  },
  {
   "cell_type": "code",
   "execution_count": 120,
   "metadata": {},
   "outputs": [],
   "source": [
    "account.settle()"
   ]
  },
  {
   "cell_type": "code",
   "execution_count": 121,
   "metadata": {},
   "outputs": [
    {
     "data": {
      "text/plain": [
       "Series([], Name: amount, dtype: float64)"
      ]
     },
     "execution_count": 121,
     "metadata": {},
     "output_type": "execute_result"
    }
   ],
   "source": [
    "account.sell_available"
   ]
  },
  {
   "cell_type": "code",
   "execution_count": 119,
   "metadata": {},
   "outputs": [
    {
     "name": "stdout",
     "output_type": "stream",
     "text": [
      "QAACCOUNT ==> receive deal  Time 2020-03-30 09:31:00/ Code:600519/ Price:10702.0/ TOWARDS:-1/ Amounts:100\n"
     ]
    }
   ],
   "source": [
    "account.sell('600519',10702,100,'2020-03-30',if_selfdeal=True)"
   ]
  },
  {
   "cell_type": "code",
   "execution_count": 136,
   "metadata": {},
   "outputs": [
    {
     "name": "stdout",
     "output_type": "stream",
     "text": [
      "QAACCOUNT ==> receive deal  Time 2020-04-01 09:31:00/ Code:600519/ Price:100.0/ TOWARDS:1/ Amounts:1000\n",
      "QAACCOUNT ==> receive deal  Time 2020-04-30 09:31:00/ Code:600519/ Price:10702.0/ TOWARDS:-1/ Amounts:1000\n"
     ]
    }
   ],
   "source": [
    "account.buy('600519',100,1000,'2020-04-01',if_selfdeal=True)\n",
    "account.settle()\n",
    "account.sell('600519',10702,1000,'2020-04-30',if_selfdeal=True)\n",
    "account.settle()\n"
   ]
  },
  {
   "cell_type": "code",
   "execution_count": 137,
   "metadata": {},
   "outputs": [
    {
     "data": {
      "text/html": [
       "<div>\n",
       "<style scoped>\n",
       "    .dataframe tbody tr th:only-of-type {\n",
       "        vertical-align: middle;\n",
       "    }\n",
       "\n",
       "    .dataframe tbody tr th {\n",
       "        vertical-align: top;\n",
       "    }\n",
       "\n",
       "    .dataframe thead th {\n",
       "        text-align: right;\n",
       "    }\n",
       "</style>\n",
       "<table border=\"1\" class=\"dataframe\">\n",
       "  <thead>\n",
       "    <tr style=\"text-align: right;\">\n",
       "      <th></th>\n",
       "      <th>datetime</th>\n",
       "      <th>code</th>\n",
       "      <th>price</th>\n",
       "      <th>amount</th>\n",
       "      <th>cash</th>\n",
       "      <th>order_id</th>\n",
       "      <th>realorder_id</th>\n",
       "      <th>trade_id</th>\n",
       "      <th>account_cookie</th>\n",
       "      <th>commission</th>\n",
       "      <th>tax</th>\n",
       "      <th>message</th>\n",
       "      <th>frozen</th>\n",
       "      <th>direction</th>\n",
       "      <th>total_frozen</th>\n",
       "    </tr>\n",
       "  </thead>\n",
       "  <tbody>\n",
       "    <tr>\n",
       "      <th>0</th>\n",
       "      <td>2020-02-24 09:31:00</td>\n",
       "      <td>600519</td>\n",
       "      <td>100.0</td>\n",
       "      <td>100.0</td>\n",
       "      <td>19989995.00</td>\n",
       "      <td>Order_MjI6SClT</td>\n",
       "      <td>Order_MjI6SClT</td>\n",
       "      <td>buy</td>\n",
       "      <td>test1</td>\n",
       "      <td>5.00</td>\n",
       "      <td>0.0</td>\n",
       "      <td>None</td>\n",
       "      <td>0</td>\n",
       "      <td>1</td>\n",
       "      <td>0</td>\n",
       "    </tr>\n",
       "    <tr>\n",
       "      <th>1</th>\n",
       "      <td>2020-03-30 09:31:00</td>\n",
       "      <td>600519</td>\n",
       "      <td>10702.0</td>\n",
       "      <td>-100.0</td>\n",
       "      <td>21058857.25</td>\n",
       "      <td>Order_JFS8NeOc</td>\n",
       "      <td>Order_JFS8NeOc</td>\n",
       "      <td>sell</td>\n",
       "      <td>test1</td>\n",
       "      <td>267.55</td>\n",
       "      <td>1070.2</td>\n",
       "      <td>None</td>\n",
       "      <td>0</td>\n",
       "      <td>-1</td>\n",
       "      <td>0</td>\n",
       "    </tr>\n",
       "    <tr>\n",
       "      <th>2</th>\n",
       "      <td>2020-04-01 09:31:00</td>\n",
       "      <td>600519</td>\n",
       "      <td>100.0</td>\n",
       "      <td>1000.0</td>\n",
       "      <td>20958832.25</td>\n",
       "      <td>Order_7Rs6MwP4</td>\n",
       "      <td>Order_7Rs6MwP4</td>\n",
       "      <td>buy</td>\n",
       "      <td>test1</td>\n",
       "      <td>25.00</td>\n",
       "      <td>0.0</td>\n",
       "      <td>None</td>\n",
       "      <td>0</td>\n",
       "      <td>1</td>\n",
       "      <td>0</td>\n",
       "    </tr>\n",
       "    <tr>\n",
       "      <th>3</th>\n",
       "      <td>2020-04-30 09:31:00</td>\n",
       "      <td>600519</td>\n",
       "      <td>10702.0</td>\n",
       "      <td>-1000.0</td>\n",
       "      <td>31647454.75</td>\n",
       "      <td>Order_9XAJP4Mp</td>\n",
       "      <td>Order_9XAJP4Mp</td>\n",
       "      <td>sell</td>\n",
       "      <td>test1</td>\n",
       "      <td>2675.50</td>\n",
       "      <td>10702.0</td>\n",
       "      <td>None</td>\n",
       "      <td>0</td>\n",
       "      <td>-1</td>\n",
       "      <td>0</td>\n",
       "    </tr>\n",
       "  </tbody>\n",
       "</table>\n",
       "</div>"
      ],
      "text/plain": [
       "              datetime    code    price  amount         cash        order_id  \\\n",
       "0  2020-02-24 09:31:00  600519    100.0   100.0  19989995.00  Order_MjI6SClT   \n",
       "1  2020-03-30 09:31:00  600519  10702.0  -100.0  21058857.25  Order_JFS8NeOc   \n",
       "2  2020-04-01 09:31:00  600519    100.0  1000.0  20958832.25  Order_7Rs6MwP4   \n",
       "3  2020-04-30 09:31:00  600519  10702.0 -1000.0  31647454.75  Order_9XAJP4Mp   \n",
       "\n",
       "     realorder_id trade_id account_cookie  commission      tax message  \\\n",
       "0  Order_MjI6SClT      buy          test1        5.00      0.0    None   \n",
       "1  Order_JFS8NeOc     sell          test1      267.55   1070.2    None   \n",
       "2  Order_7Rs6MwP4      buy          test1       25.00      0.0    None   \n",
       "3  Order_9XAJP4Mp     sell          test1     2675.50  10702.0    None   \n",
       "\n",
       "   frozen  direction  total_frozen  \n",
       "0       0          1             0  \n",
       "1       0         -1             0  \n",
       "2       0          1             0  \n",
       "3       0         -1             0  "
      ]
     },
     "execution_count": 137,
     "metadata": {},
     "output_type": "execute_result"
    }
   ],
   "source": [
    "account.history_table"
   ]
  },
  {
   "cell_type": "code",
   "execution_count": 108,
   "metadata": {
    "collapsed": true
   },
   "outputs": [
    {
     "data": {
      "text/plain": [
       "array([['600519', 1105.5, 1110.0, 1085.5, 1087.18, 38650.0, 4221857536.0,\n",
       "        Timestamp('2020-02-24 00:00:00')],\n",
       "       ['600519', 1078.0, 1082.09, 1067.88, 1074.81, 38385.0,\n",
       "        4127432192.0, Timestamp('2020-02-25 00:00:00')],\n",
       "       ['600519', 1062.0, 1084.0, 1055.0, 1073.7, 43560.0, 4663278592.0,\n",
       "        Timestamp('2020-02-26 00:00:00')],\n",
       "       ['600519', 1076.0, 1094.99, 1076.0, 1087.39, 34498.0,\n",
       "        3758783744.0, Timestamp('2020-02-27 00:00:00')],\n",
       "       ['600519', 1070.3, 1082.0, 1049.97, 1057.0, 49946.0, 5307929088.0,\n",
       "        Timestamp('2020-02-28 00:00:00')],\n",
       "       ['600519', 1050.11, 1096.55, 1050.01, 1086.01, 47663.0,\n",
       "        5154329088.0, Timestamp('2020-03-02 00:00:00')],\n",
       "       ['600519', 1098.0, 1118.88, 1098.0, 1113.0, 50250.0, 5585227776.0,\n",
       "        Timestamp('2020-03-03 00:00:00')],\n",
       "       ['600519', 1125.0, 1139.0, 1116.24, 1128.92, 53792.0,\n",
       "        6080148992.0, Timestamp('2020-03-04 00:00:00')],\n",
       "       ['600519', 1136.31, 1174.99, 1130.56, 1171.0, 62426.0,\n",
       "        7210485248.0, Timestamp('2020-03-05 00:00:00')],\n",
       "       ['600519', 1163.0, 1176.0, 1151.98, 1155.5, 30641.0, 3553622272.0,\n",
       "        Timestamp('2020-03-06 00:00:00')],\n",
       "       ['600519', 1135.0, 1135.0, 1111.31, 1114.01, 43404.0,\n",
       "        4865288704.0, Timestamp('2020-03-09 00:00:00')],\n",
       "       ['600519', 1113.0, 1168.0, 1113.0, 1156.0, 58062.0, 6635936256.0,\n",
       "        Timestamp('2020-03-10 00:00:00')],\n",
       "       ['600519', 1155.5, 1169.58, 1141.0, 1158.52, 35547.0,\n",
       "        4124608000.0, Timestamp('2020-03-11 00:00:00')],\n",
       "       ['600519', 1141.22, 1153.0, 1125.1, 1138.5, 36630.0, 4172606208.0,\n",
       "        Timestamp('2020-03-12 00:00:00')],\n",
       "       ['600519', 1090.0, 1128.98, 1080.0, 1112.03, 75885.0,\n",
       "        8348496384.0, Timestamp('2020-03-13 00:00:00')],\n",
       "       ['600519', 1103.98, 1107.95, 1062.0, 1067.0, 51232.0,\n",
       "        5548946944.0, Timestamp('2020-03-16 00:00:00')],\n",
       "       ['600519', 1055.0, 1078.0, 1011.12, 1045.1, 79359.0, 8277472768.0,\n",
       "        Timestamp('2020-03-17 00:00:00')],\n",
       "       ['600519', 1040.0, 1060.0, 1007.99, 1007.99, 73459.0,\n",
       "        7582762496.0, Timestamp('2020-03-18 00:00:00')],\n",
       "       ['600519', 993.99, 1015.0, 960.1, 996.0, 102265.0, 10075880448.0,\n",
       "        Timestamp('2020-03-19 00:00:00')],\n",
       "       ['600519', 1011.0, 1043.0, 1011.0, 1035.28, 60139.0, 6169094656.0,\n",
       "        Timestamp('2020-03-20 00:00:00')],\n",
       "       ['600519', 1000.0, 1035.28, 991.52, 1019.0, 48472.0, 4918121984.0,\n",
       "        Timestamp('2020-03-23 00:00:00')],\n",
       "       ['600519', 1043.0, 1058.88, 1035.0, 1056.0, 46650.0, 4900364288.0,\n",
       "        Timestamp('2020-03-24 00:00:00')],\n",
       "       ['600519', 1087.98, 1091.36, 1074.2, 1080.1, 37048.0,\n",
       "        4015061248.0, Timestamp('2020-03-25 00:00:00')],\n",
       "       ['600519', 1073.33, 1091.2, 1062.0, 1064.92, 30048.0,\n",
       "        3231754240.0, Timestamp('2020-03-26 00:00:00')],\n",
       "       ['600519', 1085.0, 1092.0, 1075.01, 1075.5, 36261.0, 3931759360.0,\n",
       "        Timestamp('2020-03-27 00:00:00')],\n",
       "       ['600519', 1060.25, 1077.0, 1057.0, 1072.0, 30687.0, 3279823104.0,\n",
       "        Timestamp('2020-03-30 00:00:00')]], dtype=object)"
      ]
     },
     "execution_count": 108,
     "metadata": {},
     "output_type": "execute_result"
    }
   ],
   "source": [
    "QA.QA_fetch_stock_day(['600519'], '2020-2-24', '2020-3-30')"
   ]
  },
  {
   "cell_type": "code",
   "execution_count": 140,
   "metadata": {},
   "outputs": [
    {
     "name": "stdout",
     "output_type": "stream",
     "text": [
      "'DataFrame' object has no attribute 'date'\n",
      "use old model qfq\n",
      "'DataFrame' object has no attribute 'date'\n",
      "use old model qfq\n"
     ]
    },
    {
     "data": {
      "text/plain": [
       "<module 'matplotlib.pyplot' from '/home/jiang/anaconda3/lib/python3.7/site-packages/matplotlib/pyplot.py'>"
      ]
     },
     "execution_count": 140,
     "metadata": {},
     "output_type": "execute_result"
    },
    {
     "data": {
      "image/png": "[encoded data removed]",
      "text/plain": [
       "<Figure size 1008x864 with 2 Axes>"
      ]
     },
     "metadata": {},
     "output_type": "display_data"
    }
   ],
   "source": [
    "r=QA.QA_Risk(account)\n",
    "r.plot_assets_curve()"
   ]
  }
 ],
 "metadata": {
  "kernelspec": {
   "display_name": "Python 3",
   "language": "python",
   "name": "python3"
  },
  "language_info": {
   "codemirror_mode": {
    "name": "ipython",
    "version": 3
   },
   "file_extension": ".py",
   "mimetype": "text/x-python",
   "name": "python",
   "nbconvert_exporter": "python",
   "pygments_lexer": "ipython3",
   "version": "3.7.4"
  }
 },
 "nbformat": 4,
 "nbformat_minor": 4
}
