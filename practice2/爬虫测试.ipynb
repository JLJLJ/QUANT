{
 "cells": [
  {
   "cell_type": "code",
   "execution_count": 16,
   "metadata": {},
   "outputs": [],
   "source": [
    "\n",
    "import urllib\n",
    "import http\n",
    "import re\n",
    "\n",
    "headers = [\n",
    "    ('User-Agent', 'Mozilla/5.0 (Windows NT 6.1; WOW64; Trident/7.0; rv:11.0) like Gecko'),\n",
    "    ('Accept-Language', 'zh-CN'),\n",
    "    ('Accept', 'text/html, application/xhtml+xml, */*'),\n",
    "    ('Connection', 'keep-alive')\n",
    "    ]\n",
    "#cookie = http.cookiejar.MozillaCookieJar('data/cookie.txt')\n",
    "#cookieHandle = urllib.request.HTTPCookieProcessor(cookie)\n",
    "#opener = urllib.request.build_opener(cookieHandle)\n",
    "opener = urllib.request.build_opener()\n",
    "opener.addheaders=headers\n",
    "re=opener.open('https://www.bilibili.com/ranking?spm_id_from=333.851.b_7072696d61727950616765546162.3')\n",
    "html_text=re.read().decode('utf-8')\n",
    "\n"
   ]
  },
  {
   "cell_type": "code",
   "execution_count": null,
   "metadata": {},
   "outputs": [],
   "source": [
    "html_text"
   ]
  },
  {
   "cell_type": "code",
   "execution_count": null,
   "metadata": {},
   "outputs": [],
   "source": [
    "事实上re.findall(r'\"title\":\"(.+?)\"',html_text)"
   ]
  },
  {
   "cell_type": "code",
   "execution_count": null,
   "metadata": {},
   "outputs": [],
   "source": [
    "html_text"
   ]
  }
 ],
 "metadata": {
  "kernelspec": {
   "display_name": "Python 3",
   "language": "python",
   "name": "python3"
  },
  "language_info": {
   "codemirror_mode": {
    "name": "ipython",
    "version": 3
   },
   "file_extension": ".py",
   "mimetype": "text/x-python",
   "name": "python",
   "nbconvert_exporter": "python",
   "pygments_lexer": "ipython3",
   "version": "3.7.4"
  }
 },
 "nbformat": 4,
 "nbformat_minor": 4
}
